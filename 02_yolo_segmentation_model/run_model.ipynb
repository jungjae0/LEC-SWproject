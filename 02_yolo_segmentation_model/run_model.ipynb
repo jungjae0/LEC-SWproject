{
 "cells": [
  {
   "metadata": {},
   "cell_type": "markdown",
   "source": [
    "'!(느낌표)'를 빼고 아나콘다 프롬프트에서 해당 명렁어를 실행하거나, 아래 셀을 실행하면 YOLOv8-Seg 모델 훈련/추론 시작\n",
    "\n",
    "학습된 best model은 runs/segment/train/weights/에 저장됨\n",
    "- 실행 횟수에 따라 runs/segment/train{실행횟수}로 폴더가 늘어남.\n",
    "\n",
    "data: data.yaml 절대 경로\n",
    "- dataset 폴더에 해당 파일이 있으며, data.yaml에서 train과 valid 폴더의 절대 경로 지정해줘야 함.\n",
    "\n",
    "source: 이미지 절대 경로\n",
    "\n",
    "model: 추론에 사용할 모델의 절대 경로로, 학습한 모델의 경로를 작성\n",
    "- 추론 결과는 runs/segment/predict에 생성됨"
   ],
   "id": "d5cd6cd7f0fa2ec6"
  },
  {
   "metadata": {
    "collapsed": true
   },
   "cell_type": "code",
   "source": "!yolo task=segment mode=train model=yolov8s-seg.pt data=[data.yaml 절대 경로] epochs=10 imgsz=640",
   "id": "initial_id",
   "outputs": [],
   "execution_count": null
  },
  {
   "metadata": {},
   "cell_type": "code",
   "source": "!yolo task=segment mode=predict model=[모델 절대 경로] conf=0.25 source=[이미지 절대 경로] save=true",
   "id": "1137c27aa546c9d8",
   "outputs": [],
   "execution_count": null
  }
 ],
 "metadata": {
  "kernelspec": {
   "display_name": "Python 3",
   "language": "python",
   "name": "python3"
  },
  "language_info": {
   "codemirror_mode": {
    "name": "ipython",
    "version": 2
   },
   "file_extension": ".py",
   "mimetype": "text/x-python",
   "name": "python",
   "nbconvert_exporter": "python",
   "pygments_lexer": "ipython2",
   "version": "2.7.6"
  }
 },
 "nbformat": 4,
 "nbformat_minor": 5
}
